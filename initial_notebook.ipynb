{
  "nbformat" : 4,
  "nbformat_minor" : 5,
  "metadata" : {
    "notebookPath" : "Untitled.ipynb",
    "notebookId" : "e49e81b9-f919-4276-b3d3-942b5470e7c9",
    "kernelspec" : {
      "name" : "python3",
      "description" : "IPython kernel implementation for DataSphere",
      "spec" : {
        "language" : "python",
        "display_name" : "DataSphere Kernel",
        "codemirror_mode" : "python",
        "argv" : [ "/bin/true" ],
        "env" : { },
        "help_links" : [ ],
        "metadata" : {
          "app" : "YANDEX_DATASPHERE"
        }
      },
      "resources" : { },
      "display_name" : "DataSphere Kernel"
    }
  },
  "cells" : [ ]
}